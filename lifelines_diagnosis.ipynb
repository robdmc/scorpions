{
 "cells": [
  {
   "cell_type": "markdown",
   "metadata": {},
   "source": [
    "# Problem Introduction\n",
    "\n",
    "A friend of mine is a biologist and is working on a project involving [these little guys](http://www.encyclopediaofalabama.org/article/h-3898) who live in caves in Alabama.  There is genetic evidence that despite being extremely tiny and living in caves, they somehow manage to migrate from cave to cave, and it's not known how.  There are two hypthesis that researchers are comparing:\n",
    "* They attatch themselves to bats who are known to migrate over large distances\n",
    "* They travel through underwater streams from cave system to cave system\n",
    "\n",
    "My friend's group ran some experiments simulating these two scenarios and wanted help thinking through the survival analysis problem.  Here's what they did.  They separated the scorpions into three populations.  \n",
    "\n",
    "* The \"control\" group was kept under ideal conditions in a laboratory simulating their natural habitat.  Every day a researcher would test whether or not each specimen in the group was living or dead, and would record deaths.\n",
    "\n",
    "* The \"heat\" group was kept in varying temperature conditions mimicking what would be encountered while clinging to a bat hurling through the Alabama sky.  Each day the scorpions were observed to determine if they were dead or alive.\n",
    "\n",
    "* The \"water\" group was the tricky one.  At the start of the experiment, the researchers submerged the entire group.  Apparently scorpions go into a comatose state when submerged, and it takes them a long time to wake up.  You can't just observe them and return them to the water.  So what the researchers did was remove only 10 specimens from the water each day.  They then observed the scorptions over a period of time to determine how many woke up and how many died.  The dead were recorded, and the living were removed from the experiment.  Each day the experiment proceeded with ten fewer scorpions in the water group than the day before."
   ]
  },
  {
   "cell_type": "markdown",
   "metadata": {},
   "source": [
    "# The Data\n",
    "\n",
    "* Control Group (control_data.csv)\n",
    "   - sample_id: A unique identifier for each scorpion\n",
    "   - treatment: Categorical variable.  C=control, H=heat, W=water \n",
    "   - duration: The duration (in days) the specimen remained in the experiment\n",
    "   - died:  A flag indicating death.  \n",
    "     - 1 = specimen died.  \n",
    "     - 0 = specimen lived at least `duration` days\n",
    "   \n",
    "* Heat Group (heat_data.csv)\n",
    "   - sample_id: A unique identifier for each scorpion\n",
    "   - treatment: Categorical variable.  C=control, H=heat, W=water \n",
    "   - duration: The duration (in days) the specimen remained in the experiment\n",
    "   - died:  A flag indicating death.  \n",
    "     - 1 = specimen died.  \n",
    "     - 0 = specimen lived at least `duration` days\n",
    "  \n",
    "* Water Group  (water_data.csv)\n",
    "   - sample_id: A unique identifier for each scorpion\n",
    "   - treatment: Categorical variable.  C=control, H=heat, W=water \n",
    "   - duration: The duration (in days) the specimen remained in the experiment\n",
    "   - died:  A flag indicating death.  \n",
    "       - 1 = specimen died in some unkown time less than `duration`\n",
    "       - 0 = specimen lived at least `duration` days\n"
   ]
  },
  {
   "cell_type": "markdown",
   "metadata": {},
   "source": [
    "# The analysis"
   ]
  },
  {
   "cell_type": "code",
   "execution_count": 3,
   "metadata": {},
   "outputs": [
    {
     "name": "stdout",
     "output_type": "stream",
     "text": [
      "Control\n"
     ]
    },
    {
     "data": {
      "text/html": [
       "<div>\n",
       "<style scoped>\n",
       "    .dataframe tbody tr th:only-of-type {\n",
       "        vertical-align: middle;\n",
       "    }\n",
       "\n",
       "    .dataframe tbody tr th {\n",
       "        vertical-align: top;\n",
       "    }\n",
       "\n",
       "    .dataframe thead th {\n",
       "        text-align: right;\n",
       "    }\n",
       "</style>\n",
       "<table border=\"1\" class=\"dataframe\">\n",
       "  <thead>\n",
       "    <tr style=\"text-align: right;\">\n",
       "      <th></th>\n",
       "      <th>sample_id</th>\n",
       "      <th>treatment</th>\n",
       "      <th>duration</th>\n",
       "      <th>died</th>\n",
       "    </tr>\n",
       "  </thead>\n",
       "  <tbody>\n",
       "    <tr>\n",
       "      <th>0</th>\n",
       "      <td>OC9</td>\n",
       "      <td>C</td>\n",
       "      <td>3</td>\n",
       "      <td>1</td>\n",
       "    </tr>\n",
       "    <tr>\n",
       "      <th>1</th>\n",
       "      <td>OC95</td>\n",
       "      <td>C</td>\n",
       "      <td>26</td>\n",
       "      <td>0</td>\n",
       "    </tr>\n",
       "  </tbody>\n",
       "</table>\n",
       "</div>"
      ],
      "text/plain": [
       "  sample_id treatment  duration  died\n",
       "0       OC9         C         3     1\n",
       "1      OC95         C        26     0"
      ]
     },
     "metadata": {},
     "output_type": "display_data"
    },
    {
     "name": "stdout",
     "output_type": "stream",
     "text": [
      "Heat\n"
     ]
    },
    {
     "data": {
      "text/html": [
       "<div>\n",
       "<style scoped>\n",
       "    .dataframe tbody tr th:only-of-type {\n",
       "        vertical-align: middle;\n",
       "    }\n",
       "\n",
       "    .dataframe tbody tr th {\n",
       "        vertical-align: top;\n",
       "    }\n",
       "\n",
       "    .dataframe thead th {\n",
       "        text-align: right;\n",
       "    }\n",
       "</style>\n",
       "<table border=\"1\" class=\"dataframe\">\n",
       "  <thead>\n",
       "    <tr style=\"text-align: right;\">\n",
       "      <th></th>\n",
       "      <th>sample_id</th>\n",
       "      <th>treatment</th>\n",
       "      <th>duration</th>\n",
       "      <th>died</th>\n",
       "    </tr>\n",
       "  </thead>\n",
       "  <tbody>\n",
       "    <tr>\n",
       "      <th>0</th>\n",
       "      <td>OC98</td>\n",
       "      <td>H</td>\n",
       "      <td>7</td>\n",
       "      <td>1</td>\n",
       "    </tr>\n",
       "    <tr>\n",
       "      <th>1</th>\n",
       "      <td>OC93</td>\n",
       "      <td>H</td>\n",
       "      <td>26</td>\n",
       "      <td>0</td>\n",
       "    </tr>\n",
       "  </tbody>\n",
       "</table>\n",
       "</div>"
      ],
      "text/plain": [
       "  sample_id treatment  duration  died\n",
       "0      OC98         H         7     1\n",
       "1      OC93         H        26     0"
      ]
     },
     "metadata": {},
     "output_type": "display_data"
    },
    {
     "name": "stdout",
     "output_type": "stream",
     "text": [
      "Water\n"
     ]
    },
    {
     "data": {
      "text/html": [
       "<div>\n",
       "<style scoped>\n",
       "    .dataframe tbody tr th:only-of-type {\n",
       "        vertical-align: middle;\n",
       "    }\n",
       "\n",
       "    .dataframe tbody tr th {\n",
       "        vertical-align: top;\n",
       "    }\n",
       "\n",
       "    .dataframe thead th {\n",
       "        text-align: right;\n",
       "    }\n",
       "</style>\n",
       "<table border=\"1\" class=\"dataframe\">\n",
       "  <thead>\n",
       "    <tr style=\"text-align: right;\">\n",
       "      <th></th>\n",
       "      <th>sample_id</th>\n",
       "      <th>treatment</th>\n",
       "      <th>duration</th>\n",
       "      <th>died</th>\n",
       "    </tr>\n",
       "  </thead>\n",
       "  <tbody>\n",
       "    <tr>\n",
       "      <th>0</th>\n",
       "      <td>OC99</td>\n",
       "      <td>W</td>\n",
       "      <td>15</td>\n",
       "      <td>1</td>\n",
       "    </tr>\n",
       "    <tr>\n",
       "      <th>1</th>\n",
       "      <td>OC97</td>\n",
       "      <td>W</td>\n",
       "      <td>13</td>\n",
       "      <td>1</td>\n",
       "    </tr>\n",
       "  </tbody>\n",
       "</table>\n",
       "</div>"
      ],
      "text/plain": [
       "  sample_id treatment  duration  died\n",
       "0      OC99         W        15     1\n",
       "1      OC97         W        13     1"
      ]
     },
     "metadata": {},
     "output_type": "display_data"
    },
    {
     "data": {
      "image/png": "[encoded data removed]",
      "text/plain": [
       "<Figure size 648x432 with 1 Axes>"
      ]
     },
     "metadata": {
      "needs_background": "light"
     },
     "output_type": "display_data"
    }
   ],
   "source": [
    "%config Completer.use_jedi = False\n",
    "import lifelines as ll\n",
    "import matplotlib.pyplot as pl\n",
    "import pandas as pd\n",
    "pd.options.display.max_rows = 300\n",
    "\n",
    "ax = pl.subplots(1, 1, figsize=(9, 6))[1]\n",
    "\n",
    "# Read in data\n",
    "df_control = pd.read_csv('./control_data.csv')\n",
    "df_heat = pd.read_csv('./heat_data.csv')\n",
    "df_water = pd.read_csv('./water_data.csv')\n",
    "\n",
    "# Display data for convenience\n",
    "print('Control')\n",
    "display(df_control.head(2))\n",
    "print('Heat')\n",
    "display(df_heat.head(2))\n",
    "print('Water')\n",
    "display(df_water.head(2))\n",
    "\n",
    "# Control data is right-censored\n",
    "control_fitter = ll.KaplanMeierFitter().fit(\n",
    "    durations=df_control.duration, \n",
    "    event_observed=df_control.died, \n",
    "    label='Control'\n",
    ")\n",
    "\n",
    "\n",
    "# Heat data is right-censored\n",
    "heat_fitter = ll.KaplanMeierFitter().fit(\n",
    "    durations=df_heat.duration, \n",
    "    event_observed=df_heat.died, \n",
    "    label='Heat'\n",
    ")\n",
    "\n",
    "# Water data is left-censored  (I'm pretty sure??)\n",
    "water_fitter = ll.KaplanMeierFitter().fit_left_censoring(\n",
    "    durations=df_water.duration, \n",
    "    event_observed=df_water.died, \n",
    "    label='Water'\n",
    ")\n",
    "\n",
    "\n",
    "# Overlay survival curves on a plot\n",
    "control_fitter.plot_survival_function(ax=ax)\n",
    "heat_fitter.plot_survival_function(ax=ax)\n",
    "water_fitter.plot_survival_function(ax=ax);\n",
    "\n"
   ]
  },
  {
   "cell_type": "code",
   "execution_count": null,
   "metadata": {},
   "outputs": [],
   "source": []
  }
 ],
 "metadata": {
  "kernelspec": {
   "display_name": "Python 3",
   "language": "python",
   "name": "python3"
  },
  "language_info": {
   "codemirror_mode": {
    "name": "ipython",
    "version": 3
   },
   "file_extension": ".py",
   "mimetype": "text/x-python",
   "name": "python",
   "nbconvert_exporter": "python",
   "pygments_lexer": "ipython3",
   "version": "3.6.8"
  }
 },
 "nbformat": 4,
 "nbformat_minor": 4
}
