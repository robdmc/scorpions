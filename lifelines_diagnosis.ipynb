{
 "cells": [
  {
   "cell_type": "markdown",
   "metadata": {},
   "source": [
    "# Problem Introduction\n",
    "\n",
    "A friend of mine is a biologist and is working on a project involving [these little guys](http://www.encyclopediaofalabama.org/article/h-3898) who live in caves in Alabama.  There is genetic evidence that despite being extremely tiny and living in caves, they somehow manage to migrate from cave to cave, and it's not known how.  There are two hypthesis that researchers are comparing:\n",
    "* They attatch themselves to bats who are known to migrate over large distances\n",
    "* They travel through underwater streams from cave system to cave system\n",
    "\n",
    "My friend's group ran some experiments simulating these two scenarios and wanted help thinking through the survival analysis problem.  Here's what they did.  They separated the scorpions into three populations.  \n",
    "\n",
    "* The \"control\" group was kept under ideal conditions in a laboratory simulating their natural habitat.  Every day a researcher would test whether or not each specimen in the group was living or dead, and would record deaths.\n",
    "\n",
    "* The \"heat\" group was kept in varying temperature conditions mimicking what would be encountered while clinging to a bat hurling through the Alabama sky.  Each day the scorpions were observed to determine if they were dead or alive.\n",
    "\n",
    "* The \"water\" group was the tricky one.  At the start of the experiment, the researchers submerged the entire group.  Apparently scorpions go into a comatose state when submerged, and it takes them a long time to wake up.  You can't just observe them and return them to the water.  So what the researchers did was remove only 10 specimens from the water each day.  They then observed the scorptions over a period of time to determine how many woke up and how many died.  The dead were recorded, and the living were removed from the experiment.  Each day the experiment proceeded with ten fewer scorpions in the water group than the day before."
   ]
  },
  {
   "cell_type": "markdown",
   "metadata": {},
   "source": [
    "# The Data\n",
    "\n",
    "* Control Group (file_name.csv)\n",
    "   - a\n",
    "   - b\n",
    "   - c\n",
    "   \n",
    "* Heat Group (file_name.csv)\n",
    "  - a\n",
    "  - b\n",
    "  - c\n",
    "  \n",
    "* Water Group  (file_name.csv)\n",
    "  - a\n",
    "  - b\n",
    "  - c"
   ]
  },
  {
   "cell_type": "markdown",
   "metadata": {},
   "source": [
    "# The analysis"
   ]
  },
  {
   "cell_type": "code",
   "execution_count": null,
   "metadata": {},
   "outputs": [],
   "source": []
  }
 ],
 "metadata": {
  "kernelspec": {
   "display_name": "Python 3",
   "language": "python",
   "name": "python3"
  },
  "language_info": {
   "codemirror_mode": {
    "name": "ipython",
    "version": 3
   },
   "file_extension": ".py",
   "mimetype": "text/x-python",
   "name": "python",
   "nbconvert_exporter": "python",
   "pygments_lexer": "ipython3",
   "version": "3.6.8"
  }
 },
 "nbformat": 4,
 "nbformat_minor": 2
}
