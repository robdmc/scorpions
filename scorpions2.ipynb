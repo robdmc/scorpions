{
 "cells": [
  {
   "cell_type": "code",
   "execution_count": 6,
   "metadata": {},
   "outputs": [],
   "source": [
    "import pandas as pd\n",
    "import numpy as np\n",
    "import easier as ezr\n",
    "import lifelines as ll\n",
    "%config Completer.use_jedi = False"
   ]
  },
  {
   "cell_type": "code",
   "execution_count": 103,
   "metadata": {},
   "outputs": [],
   "source": [
    "class Loader(ezr.pickle_cache_mixin):\n",
    "    pkc = ezr.pickle_cache_state('active')\n",
    "    \n",
    "    @ezr.pickle_cached_container()\n",
    "    def df_raw(self):\n",
    "        gsheet = ezr.GSheet('pseudoscorpion_data_sheet', 'treatments')\n",
    "        df = gsheet.to_dataframe()\n",
    "        df.columns = ezr.slugify(df.columns)\n",
    "        return df\n",
    "    \n",
    "    @ezr.cached_container\n",
    "    def df(self):\n",
    "        df = self.df_raw\n",
    "        \n",
    "        df.loc[:, 'start_date'] = df.start_date.astype(np.datetime64)\n",
    "        df = df.set_index(['id', 'trial', 'start_date'])\n",
    "        df = df.T.reset_index().rename(columns={'index': 'observation_date'}).sort_index()\n",
    "        # df = df.sort_index(axis=1)\n",
    "        df.iloc[:, 0] = (df.iloc[:, 0].str.replace('_', ' ') + ' 2020').astype(np.datetime64)\n",
    "        df = df.replace(r'^\\s*$', np.NaN, regex=True)\n",
    "        # df = df.set_index[('observation_date', '')]\n",
    "        df = df.set_index(('observation_date', '', np.NaN))\n",
    "\n",
    "        df.index.name = 'date'\n",
    "\n",
    "        lol = []\n",
    "        for col_ind in range(df.shape[1]):\n",
    "            ser = df.iloc[:, col_ind].dropna()\n",
    "            sample_id = df.columns[col_ind][0]\n",
    "            treatment = df.columns[col_ind][1]\n",
    "            term_date = ser.index[-1]\n",
    "            is_alive = ser[-1]\n",
    "            start_date = df.columns[col_ind][-1]\n",
    "            lol.append([sample_id, treatment, start_date, term_date, is_alive])\n",
    "\n",
    "        dfx = pd.DataFrame(lol, columns=['sample_id', 'treatment', 'start_date', 'term_date', 'is_alive'])\n",
    "        dfx['duration'] = (dfx.term_date - dfx.start_date).dt.days\n",
    "        dfx['died'] = (1 - dfx.is_alive).astype(int)\n",
    "        dfx.loc[:, 'sample_id'] = dfx.sample_id.str.strip().str.replace(r'\\s+', '', regex=True)\n",
    "        dfx.loc[:, 'treatment'] = dfx.treatment.str.strip().str.replace(r'\\s+', '', regex=True)\n",
    "        dfx = dfx[['sample_id', 'treatment', 'duration', 'died']]\n",
    "        return dfx\n",
    "        "
   ]
  },
  {
   "cell_type": "code",
   "execution_count": 105,
   "metadata": {},
   "outputs": [
    {
     "data": {
      "text/plain": [
       "W    150\n",
       "H     53\n",
       "C     51\n",
       "Name: treatment, dtype: int64"
      ]
     },
     "execution_count": 105,
     "metadata": {},
     "output_type": "execute_result"
    }
   ],
   "source": [
    "loader = Loader()\n",
    "df = loader.df\n",
    "ser = df.treatment.value_counts()\n",
    "ser\n"
   ]
  },
  {
   "cell_type": "code",
   "execution_count": null,
   "metadata": {},
   "outputs": [],
   "source": []
  }
 ],
 "metadata": {
  "kernelspec": {
   "display_name": "Python 3",
   "language": "python",
   "name": "python3"
  },
  "language_info": {
   "codemirror_mode": {
    "name": "ipython",
    "version": 3
   },
   "file_extension": ".py",
   "mimetype": "text/x-python",
   "name": "python",
   "nbconvert_exporter": "python",
   "pygments_lexer": "ipython3",
   "version": "3.6.8"
  }
 },
 "nbformat": 4,
 "nbformat_minor": 4
}
